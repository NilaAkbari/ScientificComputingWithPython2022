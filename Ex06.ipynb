{
  "nbformat": 4,
  "nbformat_minor": 0,
  "metadata": {
    "colab": {
      "provenance": [],
      "authorship_tag": "ABX9TyOLkUvy226XNolucKD5+b0U"
    },
    "kernelspec": {
      "name": "python3",
      "display_name": "Python 3"
    },
    "language_info": {
      "name": "python"
    }
  },
  "cells": [
    {
      "cell_type": "markdown",
      "source": [
        "#1"
      ],
      "metadata": {
        "id": "2WsDmQbmSv-2"
      }
    },
    {
      "cell_type": "code",
      "execution_count": 1,
      "metadata": {
        "id": "MdQ2NHexR4NI",
        "colab": {
          "base_uri": "https://localhost:8080/"
        },
        "outputId": "5dc459c9-88b3-4d09-d017-220f9e91a742"
      },
      "outputs": [
        {
          "output_type": "stream",
          "name": "stdout",
          "text": [
            "[1, 2, 3, 4, 5, 65, 45, 25, 46, 6, 6542, 56]"
          ]
        }
      ],
      "source": [
        "import pandas as pd\n",
        "import numpy as np\n",
        "\n",
        "int_list = [1, 2, 3, 4, 5, 65, 45, 25, 46,6 , 6542, 56]\n",
        "\n",
        "with open('/content/data_int.txt', 'w') as f:\n",
        "    f.write(str(int_list))\n",
        "\n",
        "!cat data_int.txt"
      ]
    },
    {
      "cell_type": "markdown",
      "source": [
        "float"
      ],
      "metadata": {
        "id": "QoE96ePEmTwq"
      }
    },
    {
      "cell_type": "code",
      "source": [
        "float_list = [[i/(10*(j+1)) for i in range(1,6)] for j in range(5)]\n",
        "\n",
        "\n",
        "with open('/content/data_float.txt', 'w') as f:\n",
        "    f.write(str(float_list))\n",
        "\n",
        "!cat data_float.txt"
      ],
      "metadata": {
        "colab": {
          "base_uri": "https://localhost:8080/"
        },
        "id": "7bNxjvN-mUzM",
        "outputId": "d2c081c0-961d-4c92-c8f6-021ada72807b"
      },
      "execution_count": 3,
      "outputs": [
        {
          "output_type": "stream",
          "name": "stdout",
          "text": [
            "[[0.1, 0.2, 0.3, 0.4, 0.5], [0.05, 0.1, 0.15, 0.2, 0.25], [0.03333333333333333, 0.06666666666666667, 0.1, 0.13333333333333333, 0.16666666666666666], [0.025, 0.05, 0.075, 0.1, 0.125], [0.02, 0.04, 0.06, 0.08, 0.1]]"
          ]
        }
      ]
    },
    {
      "cell_type": "markdown",
      "source": [
        "#2"
      ],
      "metadata": {
        "id": "aVaq3rrA863L"
      }
    },
    {
      "cell_type": "code",
      "source": [
        "import json\n",
        "\n",
        "data = json.load(open('/content/user_data.json'))\n",
        "\n",
        "output = [x for x in data if x['CreditCardType'] == 'American Express']\n",
        "\n",
        "pd.DataFrame(output).to_csv(\"/content/user_data_american_express.csv\")\n"
      ],
      "metadata": {
        "id": "FUEQpoFw871z"
      },
      "execution_count": 4,
      "outputs": []
    },
    {
      "cell_type": "markdown",
      "source": [
        "#3"
      ],
      "metadata": {
        "id": "P1nhFmTo88MM"
      }
    },
    {
      "cell_type": "code",
      "source": [
        "mushroom = pd.read_csv('/content/mushrooms_categorized.csv')\n",
        "print(mushroom.rank)\n",
        "print(mushroom.dtypes)\n",
        "print(mushroom.head)\n",
        "print(mushroom.size)"
      ],
      "metadata": {
        "id": "SclCszP089de",
        "colab": {
          "base_uri": "https://localhost:8080/"
        },
        "outputId": "0192aacb-fce2-47ce-b542-4caf8913f323"
      },
      "execution_count": 12,
      "outputs": [
        {
          "output_type": "stream",
          "name": "stdout",
          "text": [
            "<bound method NDFrame.rank of       class  cap-shape  cap-surface  cap-color  bruises  odor  \\\n",
            "0         1          5            2          4        1     6   \n",
            "1         0          5            2          9        1     0   \n",
            "2         0          0            2          8        1     3   \n",
            "3         1          5            3          8        1     6   \n",
            "4         0          5            2          3        0     5   \n",
            "...     ...        ...          ...        ...      ...   ...   \n",
            "8119      0          3            2          4        0     5   \n",
            "8120      0          5            2          4        0     5   \n",
            "8121      0          2            2          4        0     5   \n",
            "8122      1          3            3          4        0     8   \n",
            "8123      0          5            2          4        0     5   \n",
            "\n",
            "      gill-attachment  gill-spacing  gill-size  gill-color  ...  \\\n",
            "0                   1             0          1           4  ...   \n",
            "1                   1             0          0           4  ...   \n",
            "2                   1             0          0           5  ...   \n",
            "3                   1             0          1           5  ...   \n",
            "4                   1             1          0           4  ...   \n",
            "...               ...           ...        ...         ...  ...   \n",
            "8119                0             0          0          11  ...   \n",
            "8120                0             0          0          11  ...   \n",
            "8121                0             0          0           5  ...   \n",
            "8122                1             0          1           0  ...   \n",
            "8123                0             0          0          11  ...   \n",
            "\n",
            "      stalk-surface-below-ring  stalk-color-above-ring  \\\n",
            "0                            2                       7   \n",
            "1                            2                       7   \n",
            "2                            2                       7   \n",
            "3                            2                       7   \n",
            "4                            2                       7   \n",
            "...                        ...                     ...   \n",
            "8119                         2                       5   \n",
            "8120                         2                       5   \n",
            "8121                         2                       5   \n",
            "8122                         1                       7   \n",
            "8123                         2                       5   \n",
            "\n",
            "      stalk-color-below-ring  veil-type  veil-color  ring-number  ring-type  \\\n",
            "0                          7          0           2            1          4   \n",
            "1                          7          0           2            1          4   \n",
            "2                          7          0           2            1          4   \n",
            "3                          7          0           2            1          4   \n",
            "4                          7          0           2            1          0   \n",
            "...                      ...        ...         ...          ...        ...   \n",
            "8119                       5          0           1            1          4   \n",
            "8120                       5          0           0            1          4   \n",
            "8121                       5          0           1            1          4   \n",
            "8122                       7          0           2            1          0   \n",
            "8123                       5          0           1            1          4   \n",
            "\n",
            "      spore-print-color  population  habitat  \n",
            "0                     2           3        5  \n",
            "1                     3           2        1  \n",
            "2                     3           2        3  \n",
            "3                     2           3        5  \n",
            "4                     3           0        1  \n",
            "...                 ...         ...      ...  \n",
            "8119                  0           1        2  \n",
            "8120                  0           4        2  \n",
            "8121                  0           1        2  \n",
            "8122                  7           4        2  \n",
            "8123                  4           1        2  \n",
            "\n",
            "[8124 rows x 23 columns]>\n",
            "class                       int64\n",
            "cap-shape                   int64\n",
            "cap-surface                 int64\n",
            "cap-color                   int64\n",
            "bruises                     int64\n",
            "odor                        int64\n",
            "gill-attachment             int64\n",
            "gill-spacing                int64\n",
            "gill-size                   int64\n",
            "gill-color                  int64\n",
            "stalk-shape                 int64\n",
            "stalk-root                  int64\n",
            "stalk-surface-above-ring    int64\n",
            "stalk-surface-below-ring    int64\n",
            "stalk-color-above-ring      int64\n",
            "stalk-color-below-ring      int64\n",
            "veil-type                   int64\n",
            "veil-color                  int64\n",
            "ring-number                 int64\n",
            "ring-type                   int64\n",
            "spore-print-color           int64\n",
            "population                  int64\n",
            "habitat                     int64\n",
            "dtype: object\n",
            "<bound method NDFrame.head of       class  cap-shape  cap-surface  cap-color  bruises  odor  \\\n",
            "0         1          5            2          4        1     6   \n",
            "1         0          5            2          9        1     0   \n",
            "2         0          0            2          8        1     3   \n",
            "3         1          5            3          8        1     6   \n",
            "4         0          5            2          3        0     5   \n",
            "...     ...        ...          ...        ...      ...   ...   \n",
            "8119      0          3            2          4        0     5   \n",
            "8120      0          5            2          4        0     5   \n",
            "8121      0          2            2          4        0     5   \n",
            "8122      1          3            3          4        0     8   \n",
            "8123      0          5            2          4        0     5   \n",
            "\n",
            "      gill-attachment  gill-spacing  gill-size  gill-color  ...  \\\n",
            "0                   1             0          1           4  ...   \n",
            "1                   1             0          0           4  ...   \n",
            "2                   1             0          0           5  ...   \n",
            "3                   1             0          1           5  ...   \n",
            "4                   1             1          0           4  ...   \n",
            "...               ...           ...        ...         ...  ...   \n",
            "8119                0             0          0          11  ...   \n",
            "8120                0             0          0          11  ...   \n",
            "8121                0             0          0           5  ...   \n",
            "8122                1             0          1           0  ...   \n",
            "8123                0             0          0          11  ...   \n",
            "\n",
            "      stalk-surface-below-ring  stalk-color-above-ring  \\\n",
            "0                            2                       7   \n",
            "1                            2                       7   \n",
            "2                            2                       7   \n",
            "3                            2                       7   \n",
            "4                            2                       7   \n",
            "...                        ...                     ...   \n",
            "8119                         2                       5   \n",
            "8120                         2                       5   \n",
            "8121                         2                       5   \n",
            "8122                         1                       7   \n",
            "8123                         2                       5   \n",
            "\n",
            "      stalk-color-below-ring  veil-type  veil-color  ring-number  ring-type  \\\n",
            "0                          7          0           2            1          4   \n",
            "1                          7          0           2            1          4   \n",
            "2                          7          0           2            1          4   \n",
            "3                          7          0           2            1          4   \n",
            "4                          7          0           2            1          0   \n",
            "...                      ...        ...         ...          ...        ...   \n",
            "8119                       5          0           1            1          4   \n",
            "8120                       5          0           0            1          4   \n",
            "8121                       5          0           1            1          4   \n",
            "8122                       7          0           2            1          0   \n",
            "8123                       5          0           1            1          4   \n",
            "\n",
            "      spore-print-color  population  habitat  \n",
            "0                     2           3        5  \n",
            "1                     3           2        1  \n",
            "2                     3           2        3  \n",
            "3                     2           3        5  \n",
            "4                     3           0        1  \n",
            "...                 ...         ...      ...  \n",
            "8119                  0           1        2  \n",
            "8120                  0           4        2  \n",
            "8121                  0           1        2  \n",
            "8122                  7           4        2  \n",
            "8123                  4           1        2  \n",
            "\n",
            "[8124 rows x 23 columns]>\n",
            "186852\n"
          ]
        }
      ]
    },
    {
      "cell_type": "markdown",
      "source": [
        "classes:"
      ],
      "metadata": {
        "id": "ICeIYNqTNccT"
      }
    },
    {
      "cell_type": "code",
      "source": [
        "mushroom.groupby(['class']).mean()\n"
      ],
      "metadata": {
        "colab": {
          "base_uri": "https://localhost:8080/",
          "height": 289
        },
        "id": "rv_r3mWZNeJV",
        "outputId": "d56766ee-2a76-4195-84bc-bfcea3b8c0ce"
      },
      "execution_count": 17,
      "outputs": [
        {
          "output_type": "execute_result",
          "data": {
            "text/plain": [
              "       cap-shape  cap-surface  cap-color   bruises      odor  gill-attachment  \\\n",
              "class                                                                           \n",
              "0       3.266160     1.615970   4.581749  0.653992  4.334601         0.954373   \n",
              "1       3.436159     2.055158   4.421859  0.159346  3.940756         0.995403   \n",
              "\n",
              "       gill-spacing  gill-size  gill-color  stalk-shape  ...  \\\n",
              "class                                                    ...   \n",
              "0          0.285171   0.068441    6.622624     0.615970  ...   \n",
              "1          0.028601   0.567926    2.863636     0.514811  ...   \n",
              "\n",
              "       stalk-surface-below-ring  stalk-color-above-ring  \\\n",
              "class                                                     \n",
              "0                      1.798479                6.098859   \n",
              "1                      1.394280                5.512768   \n",
              "\n",
              "       stalk-color-below-ring  veil-type  veil-color  ring-number  ring-type  \\\n",
              "class                                                                          \n",
              "0                    6.064639        0.0    1.931559     1.125475   3.007605   \n",
              "1                    5.504597        0.0    2.002043     1.009193   1.522983   \n",
              "\n",
              "       spore-print-color  population   habitat  \n",
              "class                                           \n",
              "0               3.201521    3.283270  1.148289  \n",
              "1               4.021450    4.031665  1.895812  \n",
              "\n",
              "[2 rows x 22 columns]"
            ],
            "text/html": [
              "\n",
              "  <div id=\"df-fee595b5-f8a7-4e18-a575-c2e510128609\">\n",
              "    <div class=\"colab-df-container\">\n",
              "      <div>\n",
              "<style scoped>\n",
              "    .dataframe tbody tr th:only-of-type {\n",
              "        vertical-align: middle;\n",
              "    }\n",
              "\n",
              "    .dataframe tbody tr th {\n",
              "        vertical-align: top;\n",
              "    }\n",
              "\n",
              "    .dataframe thead th {\n",
              "        text-align: right;\n",
              "    }\n",
              "</style>\n",
              "<table border=\"1\" class=\"dataframe\">\n",
              "  <thead>\n",
              "    <tr style=\"text-align: right;\">\n",
              "      <th></th>\n",
              "      <th>cap-shape</th>\n",
              "      <th>cap-surface</th>\n",
              "      <th>cap-color</th>\n",
              "      <th>bruises</th>\n",
              "      <th>odor</th>\n",
              "      <th>gill-attachment</th>\n",
              "      <th>gill-spacing</th>\n",
              "      <th>gill-size</th>\n",
              "      <th>gill-color</th>\n",
              "      <th>stalk-shape</th>\n",
              "      <th>...</th>\n",
              "      <th>stalk-surface-below-ring</th>\n",
              "      <th>stalk-color-above-ring</th>\n",
              "      <th>stalk-color-below-ring</th>\n",
              "      <th>veil-type</th>\n",
              "      <th>veil-color</th>\n",
              "      <th>ring-number</th>\n",
              "      <th>ring-type</th>\n",
              "      <th>spore-print-color</th>\n",
              "      <th>population</th>\n",
              "      <th>habitat</th>\n",
              "    </tr>\n",
              "    <tr>\n",
              "      <th>class</th>\n",
              "      <th></th>\n",
              "      <th></th>\n",
              "      <th></th>\n",
              "      <th></th>\n",
              "      <th></th>\n",
              "      <th></th>\n",
              "      <th></th>\n",
              "      <th></th>\n",
              "      <th></th>\n",
              "      <th></th>\n",
              "      <th></th>\n",
              "      <th></th>\n",
              "      <th></th>\n",
              "      <th></th>\n",
              "      <th></th>\n",
              "      <th></th>\n",
              "      <th></th>\n",
              "      <th></th>\n",
              "      <th></th>\n",
              "      <th></th>\n",
              "      <th></th>\n",
              "    </tr>\n",
              "  </thead>\n",
              "  <tbody>\n",
              "    <tr>\n",
              "      <th>0</th>\n",
              "      <td>3.266160</td>\n",
              "      <td>1.615970</td>\n",
              "      <td>4.581749</td>\n",
              "      <td>0.653992</td>\n",
              "      <td>4.334601</td>\n",
              "      <td>0.954373</td>\n",
              "      <td>0.285171</td>\n",
              "      <td>0.068441</td>\n",
              "      <td>6.622624</td>\n",
              "      <td>0.615970</td>\n",
              "      <td>...</td>\n",
              "      <td>1.798479</td>\n",
              "      <td>6.098859</td>\n",
              "      <td>6.064639</td>\n",
              "      <td>0.0</td>\n",
              "      <td>1.931559</td>\n",
              "      <td>1.125475</td>\n",
              "      <td>3.007605</td>\n",
              "      <td>3.201521</td>\n",
              "      <td>3.283270</td>\n",
              "      <td>1.148289</td>\n",
              "    </tr>\n",
              "    <tr>\n",
              "      <th>1</th>\n",
              "      <td>3.436159</td>\n",
              "      <td>2.055158</td>\n",
              "      <td>4.421859</td>\n",
              "      <td>0.159346</td>\n",
              "      <td>3.940756</td>\n",
              "      <td>0.995403</td>\n",
              "      <td>0.028601</td>\n",
              "      <td>0.567926</td>\n",
              "      <td>2.863636</td>\n",
              "      <td>0.514811</td>\n",
              "      <td>...</td>\n",
              "      <td>1.394280</td>\n",
              "      <td>5.512768</td>\n",
              "      <td>5.504597</td>\n",
              "      <td>0.0</td>\n",
              "      <td>2.002043</td>\n",
              "      <td>1.009193</td>\n",
              "      <td>1.522983</td>\n",
              "      <td>4.021450</td>\n",
              "      <td>4.031665</td>\n",
              "      <td>1.895812</td>\n",
              "    </tr>\n",
              "  </tbody>\n",
              "</table>\n",
              "<p>2 rows × 22 columns</p>\n",
              "</div>\n",
              "      <button class=\"colab-df-convert\" onclick=\"convertToInteractive('df-fee595b5-f8a7-4e18-a575-c2e510128609')\"\n",
              "              title=\"Convert this dataframe to an interactive table.\"\n",
              "              style=\"display:none;\">\n",
              "        \n",
              "  <svg xmlns=\"http://www.w3.org/2000/svg\" height=\"24px\"viewBox=\"0 0 24 24\"\n",
              "       width=\"24px\">\n",
              "    <path d=\"M0 0h24v24H0V0z\" fill=\"none\"/>\n",
              "    <path d=\"M18.56 5.44l.94 2.06.94-2.06 2.06-.94-2.06-.94-.94-2.06-.94 2.06-2.06.94zm-11 1L8.5 8.5l.94-2.06 2.06-.94-2.06-.94L8.5 2.5l-.94 2.06-2.06.94zm10 10l.94 2.06.94-2.06 2.06-.94-2.06-.94-.94-2.06-.94 2.06-2.06.94z\"/><path d=\"M17.41 7.96l-1.37-1.37c-.4-.4-.92-.59-1.43-.59-.52 0-1.04.2-1.43.59L10.3 9.45l-7.72 7.72c-.78.78-.78 2.05 0 2.83L4 21.41c.39.39.9.59 1.41.59.51 0 1.02-.2 1.41-.59l7.78-7.78 2.81-2.81c.8-.78.8-2.07 0-2.86zM5.41 20L4 18.59l7.72-7.72 1.47 1.35L5.41 20z\"/>\n",
              "  </svg>\n",
              "      </button>\n",
              "      \n",
              "  <style>\n",
              "    .colab-df-container {\n",
              "      display:flex;\n",
              "      flex-wrap:wrap;\n",
              "      gap: 12px;\n",
              "    }\n",
              "\n",
              "    .colab-df-convert {\n",
              "      background-color: #E8F0FE;\n",
              "      border: none;\n",
              "      border-radius: 50%;\n",
              "      cursor: pointer;\n",
              "      display: none;\n",
              "      fill: #1967D2;\n",
              "      height: 32px;\n",
              "      padding: 0 0 0 0;\n",
              "      width: 32px;\n",
              "    }\n",
              "\n",
              "    .colab-df-convert:hover {\n",
              "      background-color: #E2EBFA;\n",
              "      box-shadow: 0px 1px 2px rgba(60, 64, 67, 0.3), 0px 1px 3px 1px rgba(60, 64, 67, 0.15);\n",
              "      fill: #174EA6;\n",
              "    }\n",
              "\n",
              "    [theme=dark] .colab-df-convert {\n",
              "      background-color: #3B4455;\n",
              "      fill: #D2E3FC;\n",
              "    }\n",
              "\n",
              "    [theme=dark] .colab-df-convert:hover {\n",
              "      background-color: #434B5C;\n",
              "      box-shadow: 0px 1px 3px 1px rgba(0, 0, 0, 0.15);\n",
              "      filter: drop-shadow(0px 1px 2px rgba(0, 0, 0, 0.3));\n",
              "      fill: #FFFFFF;\n",
              "    }\n",
              "  </style>\n",
              "\n",
              "      <script>\n",
              "        const buttonEl =\n",
              "          document.querySelector('#df-fee595b5-f8a7-4e18-a575-c2e510128609 button.colab-df-convert');\n",
              "        buttonEl.style.display =\n",
              "          google.colab.kernel.accessAllowed ? 'block' : 'none';\n",
              "\n",
              "        async function convertToInteractive(key) {\n",
              "          const element = document.querySelector('#df-fee595b5-f8a7-4e18-a575-c2e510128609');\n",
              "          const dataTable =\n",
              "            await google.colab.kernel.invokeFunction('convertToInteractive',\n",
              "                                                     [key], {});\n",
              "          if (!dataTable) return;\n",
              "\n",
              "          const docLinkHtml = 'Like what you see? Visit the ' +\n",
              "            '<a target=\"_blank\" href=https://colab.research.google.com/notebooks/data_table.ipynb>data table notebook</a>'\n",
              "            + ' to learn more about interactive tables.';\n",
              "          element.innerHTML = '';\n",
              "          dataTable['output_type'] = 'display_data';\n",
              "          await google.colab.output.renderOutput(dataTable, element);\n",
              "          const docLink = document.createElement('div');\n",
              "          docLink.innerHTML = docLinkHtml;\n",
              "          element.appendChild(docLink);\n",
              "        }\n",
              "      </script>\n",
              "    </div>\n",
              "  </div>\n",
              "  "
            ]
          },
          "metadata": {},
          "execution_count": 17
        }
      ]
    },
    {
      "cell_type": "markdown",
      "source": [
        "saving as JSON"
      ],
      "metadata": {
        "id": "XkEoUmLXOJ7X"
      }
    },
    {
      "cell_type": "code",
      "source": [
        "mushroom.to_json('/content/mushrooms.json')"
      ],
      "metadata": {
        "id": "M18Hd3_XOpr1"
      },
      "execution_count": 18,
      "outputs": []
    },
    {
      "cell_type": "markdown",
      "source": [
        "#4"
      ],
      "metadata": {
        "id": "7JxyIxQI8965"
      }
    },
    {
      "cell_type": "code",
      "source": [
        "#redit_card = pd.read_('/credit_card.dat')"
      ],
      "metadata": {
        "id": "Mw0TPGVS8_H6",
        "colab": {
          "base_uri": "https://localhost:8080/",
          "height": 334
        },
        "outputId": "04f9821c-fcda-496e-ef68-6fbc1345f92a"
      },
      "execution_count": 21,
      "outputs": [
        {
          "output_type": "error",
          "ename": "FileNotFoundError",
          "evalue": "ignored",
          "traceback": [
            "\u001b[0;31m---------------------------------------------------------------------------\u001b[0m",
            "\u001b[0;31mFileNotFoundError\u001b[0m                         Traceback (most recent call last)",
            "\u001b[0;32m<ipython-input-21-2aca8e9c0e9e>\u001b[0m in \u001b[0;36m<module>\u001b[0;34m\u001b[0m\n\u001b[0;32m----> 1\u001b[0;31m \u001b[0mcredit_card\u001b[0m \u001b[0;34m=\u001b[0m \u001b[0mpd\u001b[0m\u001b[0;34m.\u001b[0m\u001b[0mread_table\u001b[0m\u001b[0;34m(\u001b[0m\u001b[0;34m'/credit_card.dat'\u001b[0m\u001b[0;34m)\u001b[0m\u001b[0;34m\u001b[0m\u001b[0;34m\u001b[0m\u001b[0m\n\u001b[0m",
            "\u001b[0;32m/usr/local/lib/python3.8/dist-packages/pandas/util/_decorators.py\u001b[0m in \u001b[0;36mwrapper\u001b[0;34m(*args, **kwargs)\u001b[0m\n\u001b[1;32m    309\u001b[0m                     \u001b[0mstacklevel\u001b[0m\u001b[0;34m=\u001b[0m\u001b[0mstacklevel\u001b[0m\u001b[0;34m,\u001b[0m\u001b[0;34m\u001b[0m\u001b[0;34m\u001b[0m\u001b[0m\n\u001b[1;32m    310\u001b[0m                 )\n\u001b[0;32m--> 311\u001b[0;31m             \u001b[0;32mreturn\u001b[0m \u001b[0mfunc\u001b[0m\u001b[0;34m(\u001b[0m\u001b[0;34m*\u001b[0m\u001b[0margs\u001b[0m\u001b[0;34m,\u001b[0m \u001b[0;34m**\u001b[0m\u001b[0mkwargs\u001b[0m\u001b[0;34m)\u001b[0m\u001b[0;34m\u001b[0m\u001b[0;34m\u001b[0m\u001b[0m\n\u001b[0m\u001b[1;32m    312\u001b[0m \u001b[0;34m\u001b[0m\u001b[0m\n\u001b[1;32m    313\u001b[0m         \u001b[0;32mreturn\u001b[0m \u001b[0mwrapper\u001b[0m\u001b[0;34m\u001b[0m\u001b[0;34m\u001b[0m\u001b[0m\n",
            "\u001b[0;32m/usr/local/lib/python3.8/dist-packages/pandas/io/parsers/readers.py\u001b[0m in \u001b[0;36mread_table\u001b[0;34m(filepath_or_buffer, sep, delimiter, header, names, index_col, usecols, squeeze, prefix, mangle_dupe_cols, dtype, engine, converters, true_values, false_values, skipinitialspace, skiprows, skipfooter, nrows, na_values, keep_default_na, na_filter, verbose, skip_blank_lines, parse_dates, infer_datetime_format, keep_date_col, date_parser, dayfirst, cache_dates, iterator, chunksize, compression, thousands, decimal, lineterminator, quotechar, quoting, doublequote, escapechar, comment, encoding, dialect, error_bad_lines, warn_bad_lines, on_bad_lines, encoding_errors, delim_whitespace, low_memory, memory_map, float_precision)\u001b[0m\n\u001b[1;32m    681\u001b[0m     \u001b[0mkwds\u001b[0m\u001b[0;34m.\u001b[0m\u001b[0mupdate\u001b[0m\u001b[0;34m(\u001b[0m\u001b[0mkwds_defaults\u001b[0m\u001b[0;34m)\u001b[0m\u001b[0;34m\u001b[0m\u001b[0;34m\u001b[0m\u001b[0m\n\u001b[1;32m    682\u001b[0m \u001b[0;34m\u001b[0m\u001b[0m\n\u001b[0;32m--> 683\u001b[0;31m     \u001b[0;32mreturn\u001b[0m \u001b[0m_read\u001b[0m\u001b[0;34m(\u001b[0m\u001b[0mfilepath_or_buffer\u001b[0m\u001b[0;34m,\u001b[0m \u001b[0mkwds\u001b[0m\u001b[0;34m)\u001b[0m\u001b[0;34m\u001b[0m\u001b[0;34m\u001b[0m\u001b[0m\n\u001b[0m\u001b[1;32m    684\u001b[0m \u001b[0;34m\u001b[0m\u001b[0m\n\u001b[1;32m    685\u001b[0m \u001b[0;34m\u001b[0m\u001b[0m\n",
            "\u001b[0;32m/usr/local/lib/python3.8/dist-packages/pandas/io/parsers/readers.py\u001b[0m in \u001b[0;36m_read\u001b[0;34m(filepath_or_buffer, kwds)\u001b[0m\n\u001b[1;32m    480\u001b[0m \u001b[0;34m\u001b[0m\u001b[0m\n\u001b[1;32m    481\u001b[0m     \u001b[0;31m# Create the parser.\u001b[0m\u001b[0;34m\u001b[0m\u001b[0;34m\u001b[0m\u001b[0;34m\u001b[0m\u001b[0m\n\u001b[0;32m--> 482\u001b[0;31m     \u001b[0mparser\u001b[0m \u001b[0;34m=\u001b[0m \u001b[0mTextFileReader\u001b[0m\u001b[0;34m(\u001b[0m\u001b[0mfilepath_or_buffer\u001b[0m\u001b[0;34m,\u001b[0m \u001b[0;34m**\u001b[0m\u001b[0mkwds\u001b[0m\u001b[0;34m)\u001b[0m\u001b[0;34m\u001b[0m\u001b[0;34m\u001b[0m\u001b[0m\n\u001b[0m\u001b[1;32m    483\u001b[0m \u001b[0;34m\u001b[0m\u001b[0m\n\u001b[1;32m    484\u001b[0m     \u001b[0;32mif\u001b[0m \u001b[0mchunksize\u001b[0m \u001b[0;32mor\u001b[0m \u001b[0miterator\u001b[0m\u001b[0;34m:\u001b[0m\u001b[0;34m\u001b[0m\u001b[0;34m\u001b[0m\u001b[0m\n",
            "\u001b[0;32m/usr/local/lib/python3.8/dist-packages/pandas/io/parsers/readers.py\u001b[0m in \u001b[0;36m__init__\u001b[0;34m(self, f, engine, **kwds)\u001b[0m\n\u001b[1;32m    809\u001b[0m             \u001b[0mself\u001b[0m\u001b[0;34m.\u001b[0m\u001b[0moptions\u001b[0m\u001b[0;34m[\u001b[0m\u001b[0;34m\"has_index_names\"\u001b[0m\u001b[0;34m]\u001b[0m \u001b[0;34m=\u001b[0m \u001b[0mkwds\u001b[0m\u001b[0;34m[\u001b[0m\u001b[0;34m\"has_index_names\"\u001b[0m\u001b[0;34m]\u001b[0m\u001b[0;34m\u001b[0m\u001b[0;34m\u001b[0m\u001b[0m\n\u001b[1;32m    810\u001b[0m \u001b[0;34m\u001b[0m\u001b[0m\n\u001b[0;32m--> 811\u001b[0;31m         \u001b[0mself\u001b[0m\u001b[0;34m.\u001b[0m\u001b[0m_engine\u001b[0m \u001b[0;34m=\u001b[0m \u001b[0mself\u001b[0m\u001b[0;34m.\u001b[0m\u001b[0m_make_engine\u001b[0m\u001b[0;34m(\u001b[0m\u001b[0mself\u001b[0m\u001b[0;34m.\u001b[0m\u001b[0mengine\u001b[0m\u001b[0;34m)\u001b[0m\u001b[0;34m\u001b[0m\u001b[0;34m\u001b[0m\u001b[0m\n\u001b[0m\u001b[1;32m    812\u001b[0m \u001b[0;34m\u001b[0m\u001b[0m\n\u001b[1;32m    813\u001b[0m     \u001b[0;32mdef\u001b[0m \u001b[0mclose\u001b[0m\u001b[0;34m(\u001b[0m\u001b[0mself\u001b[0m\u001b[0;34m)\u001b[0m\u001b[0;34m:\u001b[0m\u001b[0;34m\u001b[0m\u001b[0;34m\u001b[0m\u001b[0m\n",
            "\u001b[0;32m/usr/local/lib/python3.8/dist-packages/pandas/io/parsers/readers.py\u001b[0m in \u001b[0;36m_make_engine\u001b[0;34m(self, engine)\u001b[0m\n\u001b[1;32m   1038\u001b[0m             )\n\u001b[1;32m   1039\u001b[0m         \u001b[0;31m# error: Too many arguments for \"ParserBase\"\u001b[0m\u001b[0;34m\u001b[0m\u001b[0;34m\u001b[0m\u001b[0;34m\u001b[0m\u001b[0m\n\u001b[0;32m-> 1040\u001b[0;31m         \u001b[0;32mreturn\u001b[0m \u001b[0mmapping\u001b[0m\u001b[0;34m[\u001b[0m\u001b[0mengine\u001b[0m\u001b[0;34m]\u001b[0m\u001b[0;34m(\u001b[0m\u001b[0mself\u001b[0m\u001b[0;34m.\u001b[0m\u001b[0mf\u001b[0m\u001b[0;34m,\u001b[0m \u001b[0;34m**\u001b[0m\u001b[0mself\u001b[0m\u001b[0;34m.\u001b[0m\u001b[0moptions\u001b[0m\u001b[0;34m)\u001b[0m  \u001b[0;31m# type: ignore[call-arg]\u001b[0m\u001b[0;34m\u001b[0m\u001b[0;34m\u001b[0m\u001b[0m\n\u001b[0m\u001b[1;32m   1041\u001b[0m \u001b[0;34m\u001b[0m\u001b[0m\n\u001b[1;32m   1042\u001b[0m     \u001b[0;32mdef\u001b[0m \u001b[0m_failover_to_python\u001b[0m\u001b[0;34m(\u001b[0m\u001b[0mself\u001b[0m\u001b[0;34m)\u001b[0m\u001b[0;34m:\u001b[0m\u001b[0;34m\u001b[0m\u001b[0;34m\u001b[0m\u001b[0m\n",
            "\u001b[0;32m/usr/local/lib/python3.8/dist-packages/pandas/io/parsers/c_parser_wrapper.py\u001b[0m in \u001b[0;36m__init__\u001b[0;34m(self, src, **kwds)\u001b[0m\n\u001b[1;32m     49\u001b[0m \u001b[0;34m\u001b[0m\u001b[0m\n\u001b[1;32m     50\u001b[0m         \u001b[0;31m# open handles\u001b[0m\u001b[0;34m\u001b[0m\u001b[0;34m\u001b[0m\u001b[0;34m\u001b[0m\u001b[0m\n\u001b[0;32m---> 51\u001b[0;31m         \u001b[0mself\u001b[0m\u001b[0;34m.\u001b[0m\u001b[0m_open_handles\u001b[0m\u001b[0;34m(\u001b[0m\u001b[0msrc\u001b[0m\u001b[0;34m,\u001b[0m \u001b[0mkwds\u001b[0m\u001b[0;34m)\u001b[0m\u001b[0;34m\u001b[0m\u001b[0;34m\u001b[0m\u001b[0m\n\u001b[0m\u001b[1;32m     52\u001b[0m         \u001b[0;32massert\u001b[0m \u001b[0mself\u001b[0m\u001b[0;34m.\u001b[0m\u001b[0mhandles\u001b[0m \u001b[0;32mis\u001b[0m \u001b[0;32mnot\u001b[0m \u001b[0;32mNone\u001b[0m\u001b[0;34m\u001b[0m\u001b[0;34m\u001b[0m\u001b[0m\n\u001b[1;32m     53\u001b[0m \u001b[0;34m\u001b[0m\u001b[0m\n",
            "\u001b[0;32m/usr/local/lib/python3.8/dist-packages/pandas/io/parsers/base_parser.py\u001b[0m in \u001b[0;36m_open_handles\u001b[0;34m(self, src, kwds)\u001b[0m\n\u001b[1;32m    220\u001b[0m         \u001b[0mLet\u001b[0m \u001b[0mthe\u001b[0m \u001b[0mreaders\u001b[0m \u001b[0mopen\u001b[0m \u001b[0mIOHandles\u001b[0m \u001b[0mafter\u001b[0m \u001b[0mthey\u001b[0m \u001b[0mare\u001b[0m \u001b[0mdone\u001b[0m \u001b[0;32mwith\u001b[0m \u001b[0mtheir\u001b[0m \u001b[0mpotential\u001b[0m \u001b[0mraises\u001b[0m\u001b[0;34m.\u001b[0m\u001b[0;34m\u001b[0m\u001b[0;34m\u001b[0m\u001b[0m\n\u001b[1;32m    221\u001b[0m         \"\"\"\n\u001b[0;32m--> 222\u001b[0;31m         self.handles = get_handle(\n\u001b[0m\u001b[1;32m    223\u001b[0m             \u001b[0msrc\u001b[0m\u001b[0;34m,\u001b[0m\u001b[0;34m\u001b[0m\u001b[0;34m\u001b[0m\u001b[0m\n\u001b[1;32m    224\u001b[0m             \u001b[0;34m\"r\"\u001b[0m\u001b[0;34m,\u001b[0m\u001b[0;34m\u001b[0m\u001b[0;34m\u001b[0m\u001b[0m\n",
            "\u001b[0;32m/usr/local/lib/python3.8/dist-packages/pandas/io/common.py\u001b[0m in \u001b[0;36mget_handle\u001b[0;34m(path_or_buf, mode, encoding, compression, memory_map, is_text, errors, storage_options)\u001b[0m\n\u001b[1;32m    700\u001b[0m         \u001b[0;32mif\u001b[0m \u001b[0mioargs\u001b[0m\u001b[0;34m.\u001b[0m\u001b[0mencoding\u001b[0m \u001b[0;32mand\u001b[0m \u001b[0;34m\"b\"\u001b[0m \u001b[0;32mnot\u001b[0m \u001b[0;32min\u001b[0m \u001b[0mioargs\u001b[0m\u001b[0;34m.\u001b[0m\u001b[0mmode\u001b[0m\u001b[0;34m:\u001b[0m\u001b[0;34m\u001b[0m\u001b[0;34m\u001b[0m\u001b[0m\n\u001b[1;32m    701\u001b[0m             \u001b[0;31m# Encoding\u001b[0m\u001b[0;34m\u001b[0m\u001b[0;34m\u001b[0m\u001b[0;34m\u001b[0m\u001b[0m\n\u001b[0;32m--> 702\u001b[0;31m             handle = open(\n\u001b[0m\u001b[1;32m    703\u001b[0m                 \u001b[0mhandle\u001b[0m\u001b[0;34m,\u001b[0m\u001b[0;34m\u001b[0m\u001b[0;34m\u001b[0m\u001b[0m\n\u001b[1;32m    704\u001b[0m                 \u001b[0mioargs\u001b[0m\u001b[0;34m.\u001b[0m\u001b[0mmode\u001b[0m\u001b[0;34m,\u001b[0m\u001b[0;34m\u001b[0m\u001b[0;34m\u001b[0m\u001b[0m\n",
            "\u001b[0;31mFileNotFoundError\u001b[0m: [Errno 2] No such file or directory: '/credit_card.dat'"
          ]
        }
      ]
    },
    {
      "cell_type": "markdown",
      "source": [
        "#5"
      ],
      "metadata": {
        "id": "lWDk6_cO8_v1"
      }
    },
    {
      "cell_type": "code",
      "source": [],
      "metadata": {
        "id": "XLxdP4EM9BUA"
      },
      "execution_count": null,
      "outputs": []
    }
  ]
}